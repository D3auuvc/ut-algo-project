{
 "cells": [
  {
   "cell_type": "code",
   "execution_count": 27,
   "metadata": {},
   "outputs": [],
   "source": [
    "def most_freq_pairs(model, limit):\n",
    "    model_sorted = {k: v for k, v in sorted(model.items(), key=lambda item: len(item[1]), reverse=True)[:limit]}\n",
    "    return model_sorted"
   ]
  },
  {
   "cell_type": "code",
   "execution_count": 28,
   "metadata": {},
   "outputs": [],
   "source": [
    "def add_to_model(model, n, seq):\n",
    "    seq = list(seq[:]) + [None]\n",
    "    for i in range(len(seq)-n):\n",
    "        gram = tuple(seq[i:i+n])\n",
    "        next_item = seq[i+n]            \n",
    "        if gram not in model:\n",
    "            model[gram] = []\n",
    "        model[gram].append(next_item)"
   ]
  },
  {
   "cell_type": "code",
   "execution_count": 29,
   "metadata": {},
   "outputs": [],
   "source": [
    "def markov_model_from_sequences(n, seq_words):\n",
    "    model = {}\n",
    "    for seq in seq_words:\n",
    "        add_to_model(model, n, seq)\n",
    "    model = most_freq_pairs(model,1)\n",
    "    return calc_prob(model)"
   ]
  },
  {
   "cell_type": "code",
   "execution_count": 30,
   "metadata": {},
   "outputs": [],
   "source": [
    "def calc_prob(model):\n",
    "    prob_model = {}\n",
    "    for key, value_list in model.items():\n",
    "        prob = {i:value_list.count(i)/len(value_list) for i in value_list}\n",
    "        prob_model[key] = prob\n",
    "    return prob_model"
   ]
  },
  {
   "cell_type": "code",
   "execution_count": 31,
   "metadata": {},
   "outputs": [
    {
     "name": "stdout",
     "output_type": "stream",
     "text": [
      "{('of', 'the'): {'most': 0.043478260869565216, 'city.': 0.08695652173913043, 'square': 0.043478260869565216, 'least': 0.043478260869565216, 'city,': 0.08695652173913043, 'church': 0.043478260869565216, 'viewing': 0.043478260869565216, 'more': 0.08695652173913043, 'oldest': 0.08695652173913043, 'old': 0.043478260869565216, 'cathedral': 0.043478260869565216, 'best': 0.13043478260869565, 'city': 0.08695652173913043, 'University’s': 0.08695652173913043, 'University.': 0.043478260869565216}, ('in', 'the'): {'country’s': 0.125, 'centre': 0.125, 'world,': 0.125, 'city': 0.125, '7th': 0.125, 'city,': 0.125, '19th': 0.125, 'country.': 0.125}, ('is', 'the'): {'local': 0.14285714285714285, 'Supilinn': 0.14285714285714285, 'strong': 0.14285714285714285, 'period': 0.14285714285714285, 'gentle': 0.14285714285714285, 'only': 0.14285714285714285, 'various': 0.14285714285714285}}\n"
     ]
    }
   ],
   "source": [
    "if __name__ == '__main__':\n",
    "    file = open(\"content.txt\",encoding=\"utf8\",mode=\"r\")\n",
    "    seq_words  = [item.strip().split() for item in file.readlines()]\n",
    "    print(markov_model_from_sequences(2, seq_words))"
   ]
  }
 ],
 "metadata": {
  "interpreter": {
   "hash": "c0ff169c8e43429c153df0157b609eda442934f46fd7b5e9a7dfcda698648453"
  },
  "kernelspec": {
   "display_name": "Python 3.9.7 64-bit",
   "language": "python",
   "name": "python3"
  },
  "language_info": {
   "codemirror_mode": {
    "name": "ipython",
    "version": 3
   },
   "file_extension": ".py",
   "mimetype": "text/x-python",
   "name": "python",
   "nbconvert_exporter": "python",
   "pygments_lexer": "ipython3",
   "version": "3.9.7"
  },
  "orig_nbformat": 4
 },
 "nbformat": 4,
 "nbformat_minor": 2
}
