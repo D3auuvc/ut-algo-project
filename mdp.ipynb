{
 "cells": [
  {
   "cell_type": "code",
   "execution_count": 87,
   "metadata": {},
   "outputs": [],
   "source": [
    "from collections import Counter\n",
    "from collections import defaultdict\n",
    "import string\n",
    "import numpy as np\n",
    "import pandas as pd\n",
    "from nltk import word_tokenize, ngrams\n",
    "import time\n",
    "\n",
    "import matplotlib.pyplot as plt\n",
    "\n",
    "\n",
    "class NgramModel(object):\n",
    "\n",
    "    def __init__(self, n=1):\n",
    "        \"\"\"\n",
    "        Class init\n",
    "        :param 'n': length of n-gram, default is one\n",
    "        \"\"\"\n",
    "        self.n = n\n",
    "        # a nested breakdown of all the words associated\n",
    "        # before and after the appearance of another word\n",
    "        self.entropylist = defaultdict(list)\n",
    "        # keeps track of how many times ngram has appeared in the text before\n",
    "        self.ngram_counter = {}\n",
    "\n",
    "    def get_ngrams(self, corpus: list) -> dict:\n",
    "        \"\"\"\n",
    "        Get ngrams\n",
    "        :param 'corpus' : contents want to process in ngram\n",
    "        :return         : list of ngrams\n",
    "        \"\"\"\n",
    "\n",
    "        # list of special characters want to be removed from the corpus.\n",
    "        removals = string.punctuation + '``'+'’'\n",
    "\n",
    "        for com in corpus:\n",
    "            ngram_statement = [str(i).lower() for i in ngrams(\n",
    "                [iter for iter in word_tokenize(com) if iter not in removals], self.n)]\n",
    "            counter = 0\n",
    "            recent_list = []\n",
    "            for gram in ngram_statement:\n",
    "\n",
    "                # Romovig formatting that applied to the string format\n",
    "                # when being passed through word_tokenize.\n",
    "                if self.n == 1:\n",
    "                    gram_clean = gram[2:len(gram)-3]\n",
    "                else:\n",
    "                    gram_clean = ''.join(gram)\n",
    "\n",
    "                # Depending on the position and length of the gram\n",
    "                if counter == 0:\n",
    "                    self.entropylist['[start]'].append(gram_clean)\n",
    "                    recent_list.append(gram_clean)\n",
    "                elif counter > 0:\n",
    "                    self.entropylist[str(\n",
    "                        recent_list[len(recent_list)-self.n])].append(str(gram_clean))\n",
    "                    recent_list.append(gram_clean)\n",
    "                elif counter == len(ngram_statement):\n",
    "                    self.entropylist[str(\n",
    "                        recent_list[len(recent_list)-self.n])].append('[end]')\n",
    "                    recent_list.append('[end]')\n",
    "\n",
    "                counter += 1\n",
    "\n",
    "        # usage count represents the appearance\n",
    "        # of words (in their respective order)\n",
    "        for key in self.entropylist:\n",
    "            count_vals = {}\n",
    "            # increment the appearance of the grams that appear within the gram.\n",
    "            for val in self.entropylist[key]:\n",
    "                if str(val) in count_vals:\n",
    "                    count_vals[str(val)] += 1\n",
    "                else:\n",
    "                    count_vals[str(val)] = 1\n",
    "\n",
    "            self.ngram_counter[str(val)] = [count_vals]\n",
    "\n",
    "        return {'usage': self.ngram_counter, 'entropylist': self.entropylist}\n",
    "\n",
    "\n",
    "class MarkovChainModel(object):\n",
    "\n",
    "    def __init__(self, ngrams):\n",
    "        \"\"\"\n",
    "        Class init\n",
    "        :param 'ngrams': data structure of the n-gram\n",
    "        \"\"\"\n",
    "\n",
    "        self.ngrams = ngrams\n",
    "\n",
    "    def _transition_table(self) -> dict:\n",
    "        \"\"\"\n",
    "        Returns the set of transition tables based on the length of n\n",
    "        :return : set of transition table(s)\n",
    "        \"\"\"\n",
    "\n",
    "        all_entropy = {}\n",
    "        ngrams = self.ngrams\n",
    "\n",
    "        for key in ngrams['entropylist']:\n",
    "            cond_prob_val = {}\n",
    "            relative_usage = Counter(ngrams['entropylist'][key])\n",
    "            relative_words_len = sum(relative_usage.values())\n",
    "\n",
    "            for following_gram in relative_usage:\n",
    "                cond_prob_val[following_gram] = float(\n",
    "                    relative_usage[following_gram]) / float(relative_words_len)\n",
    "\n",
    "            all_entropy[key] = cond_prob_val\n",
    "\n",
    "        return all_entropy\n",
    "\n",
    "    def _melt_transition_table(self) -> pd.DataFrame:\n",
    "        \"\"\"\n",
    "        Create a melted dataframe\n",
    "        :return : dataframe of transition table(s)\n",
    "        \"\"\"\n",
    "\n",
    "        transition_table = self._transition_table()\n",
    "        flat_output = []\n",
    "        for key in transition_table:\n",
    "            for foll in transition_table[key]:\n",
    "                temp_row = [key, foll, transition_table[key][foll]]\n",
    "                flat_output.append(temp_row)\n",
    "        pd_flat = pd.DataFrame(flat_output)\n",
    "        headers = ['parent', 'relation', 'percentage']\n",
    "        pd_flat.columns = headers\n",
    "        pd_flat.to_csv('output.csv')\n",
    "        return pd_flat\n",
    "\n",
    "    def get_matrix(self) -> pd.DataFrame:\n",
    "        \"\"\"\n",
    "        Create a markov chain transition matrix\n",
    "        :return : transition matrix of markov chain\n",
    "        \"\"\"\n",
    "        transition_table = self._melt_transition_table()\n",
    "\n",
    "        distinct = (list(set(transition_table['parent'].unique())\n",
    "                    | set(transition_table['relation'].unique())))\n",
    "        zero_data = np.zeros(shape=(len(distinct), len(distinct)))\n",
    "        df = pd.DataFrame(index=distinct, columns=distinct, data=zero_data)\n",
    "        for _, row in transition_table.iterrows():\n",
    "            df[row['parent']][row['relation']] = row['percentage']\n",
    "        return df"
   ]
  },
  {
   "cell_type": "code",
   "execution_count": 88,
   "metadata": {},
   "outputs": [],
   "source": [
    "def get_corpus(path: str) -> list:\n",
    "    \"\"\"\n",
    "    Get corpus from the path file\n",
    "    :param 'path'   : corpus file path\n",
    "    :return         : generated corpus\n",
    "    \"\"\"\n",
    "    corpus = ''\n",
    "    with open(path, mode='r', encoding='utf8') as f:\n",
    "        corpus = f.readlines()\n",
    "        corpus = [s.rstrip('\\n') for s in corpus]\n",
    "\n",
    "    return corpus"
   ]
  },
  {
   "cell_type": "code",
   "execution_count": 89,
   "metadata": {},
   "outputs": [],
   "source": [
    "def strassen_algorithm(matrix, c_word, k):\n",
    "    \"\"\"\n",
    "    Execute Markov chain to get the probability of the word come after current word\n",
    "    :param 'matrix' : transition matrix of markov chain\n",
    "    :param 'c_word' : current word\n",
    "    :param 'k'      : the probability of k+1-th word comes after k-th word\n",
    "    :return : probability of the next word\n",
    "    \"\"\"\n",
    "    if k == 1:\n",
    "        print('here strassen')\n",
    "        return matrix[c_word]\n",
    "    else:\n",
    "        res = pd.DataFrame(data=np.identity(len(matrix.index)),\n",
    "                           index=matrix.index, columns=matrix.columns)\n",
    "\n",
    "        for _ in range(k):\n",
    "            res = res.dot(matrix)\n",
    "            # res = res@matrix\n",
    "        return res[c_word]\n"
   ]
  },
  {
   "cell_type": "code",
   "execution_count": 90,
   "metadata": {},
   "outputs": [],
   "source": [
    "def regular_matrix_multiplication(matrix, c_word, k):\n",
    "    if k == 1:\n",
    "        print('here regular')\n",
    "        return matrix[c_word]\n",
    "    else:\n",
    "        res = pd.DataFrame(data=np.identity(len(matrix.index)),\n",
    "                           index=matrix.index, columns=matrix.columns)\n",
    "        A = list(matrix.to_numpy())\n",
    "        B = list(matrix.to_numpy())\n",
    "        res = [] # final result\n",
    "        print('here')\n",
    "        for i in range(len(A)):\n",
    "\n",
    "            row = [] # the new row in new matrix\n",
    "            for j in range(len(B[0])):\n",
    "                \n",
    "                product = 0 # the new element in the new row\n",
    "                for v in range(len(A[i])):\n",
    "                    product += A[i][v] * B[v][j]\n",
    "                row.append(product) # append sum of product into the new row\n",
    "                \n",
    "            res.append(row) # append the new row into the final result\n",
    "        res = pd.DataFrame(data=np.array(res),index=matrix.index, columns=matrix.columns) \n",
    "        return res[c_word]\n"
   ]
  },
  {
   "cell_type": "code",
   "execution_count": 91,
   "metadata": {},
   "outputs": [],
   "source": [
    "n = 1\n",
    "path = r'10_Best_Things_to_Do_in_Tartu.txt'\n",
    "corpus = get_corpus(path)\n",
    "ngram_model = NgramModel()\n",
    "# print(ngram_model.get_ngrams(corpus))\n",
    "\n",
    "markov_model = MarkovChainModel(ngram_model.get_ngrams(corpus))\n",
    "matrix = markov_model.get_matrix()"
   ]
  },
  {
   "cell_type": "code",
   "execution_count": 92,
   "metadata": {},
   "outputs": [
    {
     "name": "stdout",
     "output_type": "stream",
     "text": [
      "Language Model creating time with Strassen algorithm: 0.011002302169799805\n"
     ]
    }
   ],
   "source": [
    "start = time.time()\n",
    "guess_word_1 = strassen_algorithm(matrix, 'although', 3)\n",
    "print(f'Language Model creating time with Strassen algorithm: {time.time() - start}')"
   ]
  },
  {
   "cell_type": "code",
   "execution_count": 93,
   "metadata": {},
   "outputs": [
    {
     "name": "stdout",
     "output_type": "stream",
     "text": [
      "Language Model creating time with regular matrix multiplication: 11.535888910293579\n"
     ]
    }
   ],
   "source": [
    "start = time.time()\n",
    "guess_word_2 = regular_matrix_multiplication(matrix, 'although', 3)\n",
    "print(f'Language Model creating time with regular matrix multiplication: {time.time() - start}')"
   ]
  },
  {
   "cell_type": "code",
   "execution_count": 94,
   "metadata": {},
   "outputs": [
    {
     "data": {
      "text/plain": [
       "neighborhoods    0.0\n",
       "offers           0.0\n",
       "settlers         0.0\n",
       "good             0.0\n",
       "wooden           0.0\n",
       "                ... \n",
       "[start]          0.0\n",
       "architecture     0.0\n",
       "during           0.0\n",
       "ingredients      0.0\n",
       "hall             0.0\n",
       "Name: although, Length: 290, dtype: float64"
      ]
     },
     "execution_count": 94,
     "metadata": {},
     "output_type": "execute_result"
    }
   ],
   "source": [
    "guess_word_2"
   ]
  },
  {
   "cell_type": "code",
   "execution_count": 95,
   "metadata": {},
   "outputs": [
    {
     "data": {
      "text/plain": [
       "neighborhoods     True\n",
       "offers            True\n",
       "settlers          True\n",
       "good              True\n",
       "wooden            True\n",
       "                 ...  \n",
       "[start]           True\n",
       "architecture      True\n",
       "during            True\n",
       "ingredients       True\n",
       "hall             False\n",
       "Name: although, Length: 290, dtype: bool"
      ]
     },
     "execution_count": 95,
     "metadata": {},
     "output_type": "execute_result"
    }
   ],
   "source": [
    "guess_word_2==guess_word_1"
   ]
  },
  {
   "cell_type": "code",
   "execution_count": 96,
   "metadata": {},
   "outputs": [
    {
     "data": {
      "image/png": "[encoded data removed]",
      "text/plain": [
       "<Figure size 288x288 with 2 Axes>"
      ]
     },
     "metadata": {
      "needs_background": "light"
     },
     "output_type": "display_data"
    },
    {
     "name": "stdout",
     "output_type": "stream",
     "text": [
      "offers           0.000000\n",
      "link             0.000000\n",
      "out              0.000000\n",
      "the              0.000000\n",
      "long-standing    0.000000\n",
      "                   ...   \n",
      "intact           0.003401\n",
      "architecture     0.000000\n",
      "ingredients      0.000000\n",
      "hall             0.000000\n",
      "either           0.000000\n",
      "Name: although, Length: 487, dtype: float64\n"
     ]
    }
   ],
   "source": [
    "plt.matshow(markov_model.get_matrix())\n",
    "plt.colorbar()\n",
    "plt.show()\n",
    "\n",
    "print(guess_word)"
   ]
  }
 ],
 "metadata": {
  "interpreter": {
   "hash": "408d296dac86e32f9a39c3b342851e7f5d0e2324398d48fdd8d12907187dd98b"
  },
  "kernelspec": {
   "display_name": "Python 3.9.7 64-bit",
   "language": "python",
   "name": "python3"
  },
  "language_info": {
   "codemirror_mode": {
    "name": "ipython",
    "version": 3
   },
   "file_extension": ".py",
   "mimetype": "text/x-python",
   "name": "python",
   "nbconvert_exporter": "python",
   "pygments_lexer": "ipython3",
   "version": "3.9.7"
  },
  "orig_nbformat": 4
 },
 "nbformat": 4,
 "nbformat_minor": 2
}
